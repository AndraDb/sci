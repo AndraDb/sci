{
 "cells": [
  {
   "cell_type": "markdown",
   "metadata": {
    "collapsed": true
   },
   "source": [
    "# Laborator 3 - regresia liniara"
   ]
  },
  {
   "cell_type": "code",
   "execution_count": 180,
   "metadata": {},
   "outputs": [],
   "source": [
    "import numpy as np\n",
    "import matplotlib.pyplot as plt\n",
    "import csv"
   ]
  },
  {
   "cell_type": "code",
   "execution_count": 447,
   "metadata": {},
   "outputs": [],
   "source": [
    "\n",
    "def load_dataset(file_name):\n",
    "    \"\"\" \n",
    "    Reads the CSV file and forms the numpy matrix of m rows and n cols\n",
    "    \n",
    "    file_name (string): the name of the file\n",
    "    \n",
    "    returns: the dataset as a numpy matrix\n",
    "    \"\"\"\n",
    "    # ... put your code here ...\n",
    "    \n",
    "    return x"
   ]
  },
  {
   "cell_type": "code",
   "execution_count": 448,
   "metadata": {},
   "outputs": [],
   "source": [
    "def form_x_and_y(x):\n",
    "    \"\"\"\n",
    "    From the given input matrix, construct the X and Y; Y is a single column\n",
    "    \n",
    "    x: the read matrix\n",
    "    \n",
    "    returns: a tuple x, y\n",
    "    \"\"\"\n",
    "    # ... put your code here ...\n",
    "    \n",
    "    return x, y"
   ]
  },
  {
   "cell_type": "code",
   "execution_count": 470,
   "metadata": {
    "collapsed": true
   },
   "outputs": [],
   "source": [
    "def normalize(x):\n",
    "    \"\"\"\n",
    "    From each element, subtract the minimum on its column, \n",
    "    then divide by the difference between its maximum and minimum (both\n",
    "    on its column)\n",
    "    \n",
    "    x: the matrix X\n",
    "    \n",
    "    returns: the scaled matrix\n",
    "    \"\"\"\n",
    "    # ... put your code here ...\n",
    "    \n",
    "    return x"
   ]
  },
  {
   "cell_type": "code",
   "execution_count": 450,
   "metadata": {
    "collapsed": true
   },
   "outputs": [],
   "source": [
    "def add_front_ones_column(x):\n",
    "    \"\"\"\n",
    "    Changes the shape of X by adding a front column of ones.\n",
    "    \n",
    "    x: the matrix X\n",
    "    \n",
    "    returns: the transformed matrix\n",
    "    \"\"\"\n",
    "    # ... put your code here ...\n",
    "    \n",
    "    return x"
   ]
  },
  {
   "cell_type": "code",
   "execution_count": 457,
   "metadata": {
    "collapsed": true
   },
   "outputs": [],
   "source": [
    "def sgd(x, y, theta):\n",
    "    \"\"\"\n",
    "    Computes the second term, the derivative of J.\n",
    "    \n",
    "    returns: the vector of computed deltas\n",
    "    \"\"\"\n",
    "    # ... put your code here ...\n",
    "    return (...)\n",
    "\n",
    "def predict(x, theta):\n",
    "    \"\"\"\n",
    "    Constructs the inner product between X and theta.\n",
    "    \n",
    "    returns: a vector of predicted y values\n",
    "    \"\"\"\n",
    "    # ... put your code here ...\n",
    "    return (...)\n",
    "\n",
    "def cost(x, y, theta):\n",
    "    \"\"\"\n",
    "    The cost function J. Calls predict().\n",
    "    \n",
    "    returns: a scalar\n",
    "    \"\"\"\n",
    "    # ... put your code here ...\n",
    "    return (...)\n",
    "\n",
    "def train(x, y, alpha = 0.01, iterations = 10000):\n",
    "    \"\"\"\n",
    "    Iterates a specified number of times and adjusts thetas. Calls sgd() and cost().\n",
    "\n",
    "    returns: the theta vector and the cost for each iteration, as vector\n",
    "    \n",
    "    \"\"\"\n",
    "    # ... put your code here ...\n",
    "        \n",
    "    return theta, values"
   ]
  },
  {
   "cell_type": "code",
   "execution_count": 458,
   "metadata": {},
   "outputs": [
    {
     "name": "stdout",
     "output_type": "stream",
     "text": [
      "Header is:\n",
      "['CRIM', 'ZN', 'INDUS', 'CHAS', 'NOX', 'RM', 'AGE', 'DIS', 'RAD', 'TAX', 'PTRATIO', 'B', 'LSTAT', 'MEDV']\n"
     ]
    }
   ],
   "source": [
    "# load the dataset\n",
    "dataset = load_dataset('housing.csv')\n",
    "\n",
    "# from the dataset read, construct the X and Y matrices\n",
    "x, y = form_x_and_y(dataset)\n",
    "assert np.shape(x)[0] == 506\n",
    "assert np.shape(x)[1] == 13\n",
    "assert np.shape(y)[0] == 506\n",
    "assert np.shape(y)[1] == 1\n",
    "\n",
    "# do the normalization\n",
    "x = normalize(x)\n",
    "assert np.all(np.logical_and(x >= 0, x <= 1))\n",
    "\n",
    "# add columns of ones, taking initial and final shapes\n",
    "initial_shape = np.shape(x)\n",
    "x = add_front_ones_column(x)\n",
    "final_shape = np.shape(x)\n",
    "\n",
    "# check that the shape evolved the right way\n",
    "assert np.all(np.array(initial_shape) + np.array([0, 1]) == np.array(final_shape))\n",
    "assert np.all(x[:, 0] == 1)"
   ]
  },
  {
   "cell_type": "code",
   "execution_count": 474,
   "metadata": {},
   "outputs": [],
   "source": [
    "# do the training\n",
    "theta, values = train(x, y)"
   ]
  },
  {
   "cell_type": "code",
   "execution_count": 475,
   "metadata": {},
   "outputs": [
    {
     "data": {
      "image/png": "[encoded data removed]",
      "text/plain": [
       "<matplotlib.figure.Figure at 0x9525e48>"
      ]
     },
     "metadata": {},
     "output_type": "display_data"
    }
   ],
   "source": [
    "i = range(0, len(values))\n",
    "plt.plot(i, values)\n",
    "plt.show()"
   ]
  },
  {
   "cell_type": "code",
   "execution_count": 476,
   "metadata": {},
   "outputs": [],
   "source": [
    "# compare with scikit implementation of regression \n",
    "from sklearn.linear_model import LinearRegression\n",
    "linreg = LinearRegression(normalize=True)\n",
    "linreg.fit(x, y)\n",
    "y_pred = linreg.predict(x)\n",
    "\n",
    "rss = sum((y_pred - y)**2)\n",
    "\n",
    "assert(sum((predict(x, theta) - y)**2) - rss < 1e-1)"
   ]
  },
  {
   "cell_type": "code",
   "execution_count": 463,
   "metadata": {},
   "outputs": [],
   "source": [
    "# directly compute theta using pseudoinverse\n",
    "theta_direct = (... your code here ...)"
   ]
  },
  {
   "cell_type": "code",
   "execution_count": 477,
   "metadata": {},
   "outputs": [],
   "source": [
    "# this method should give better predictions\n",
    "assert(sum((predict(x, theta_direct) - y)**2) - rss < 1e-10)"
   ]
  },
  {
   "cell_type": "code",
   "execution_count": 479,
   "metadata": {},
   "outputs": [],
   "source": [
    "m = np.shape(x)[0]\n",
    "perm = ...\n",
    "np.random.shuffle(perm)\n",
    "\n",
    "# ... put your code here ...\n",
    "\n",
    "x_train = ...\n",
    "x_test = ...\n",
    "y_train = ...\n",
    "y_test = ...\n",
    "\n",
    "# after splitting to 70/30, check to ensure that no data has been lost\n",
    "# be sure to split both the X and the Y with the same permutation\n",
    "assert tuple([sum(i) for i in zip(np.shape(x_train), np.shape(x_test))]) == (506, 28)\n",
    "assert tuple([sum(i) for i in zip(np.shape(y_train), np.shape(y_test))]) == (506, 2)"
   ]
  },
  {
   "cell_type": "code",
   "execution_count": 480,
   "metadata": {},
   "outputs": [
    {
     "data": {
      "image/png": "[encoded data removed]",
      "text/plain": [
       "<matplotlib.figure.Figure at 0x815c978>"
      ]
     },
     "metadata": {},
     "output_type": "display_data"
    }
   ],
   "source": [
    "# compute again the thetas\n",
    "theta, values = train(x_train, y_train)\n",
    "\n",
    "i = range(0, len(values))\n",
    "plt.plot(i, values)\n",
    "plt.show()"
   ]
  },
  {
   "cell_type": "code",
   "execution_count": 482,
   "metadata": {},
   "outputs": [
    {
     "data": {
      "text/plain": [
       "(array([ 11.02072828]), array([ 13.65569439]))"
      ]
     },
     "execution_count": 482,
     "metadata": {},
     "output_type": "execute_result"
    }
   ],
   "source": [
    "# show the obtained costs\n",
    "cost(x_train, y_train, theta), cost(x_test, y_test, theta)"
   ]
  },
  {
   "cell_type": "code",
   "execution_count": null,
   "metadata": {
    "collapsed": true
   },
   "outputs": [],
   "source": []
  }
 ],
 "metadata": {
  "kernelspec": {
   "display_name": "Python 3",
   "language": "python",
   "name": "python3"
  },
  "language_info": {
   "codemirror_mode": {
    "name": "ipython",
    "version": 3
   },
   "file_extension": ".py",
   "mimetype": "text/x-python",
   "name": "python",
   "nbconvert_exporter": "python",
   "pygments_lexer": "ipython3",
   "version": "3.5.2"
  }
 },
 "nbformat": 4,
 "nbformat_minor": 2
}
